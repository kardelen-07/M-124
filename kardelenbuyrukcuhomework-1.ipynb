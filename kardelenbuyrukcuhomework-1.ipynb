{
 "cells": [
  {
   "cell_type": "code",
   "execution_count": 1,
   "metadata": {},
   "outputs": [
    {
     "name": "stdout",
     "output_type": "stream",
     "text": [
      "enter  coefficient of x2=1\n",
      "enter coefficient of x=6\n",
      "enter fixed number=1\n",
      "discriminant= 32\n",
      "ıf discriminant<0 , you will not find x1 and x2\n",
      "you must true write discriminant value\n",
      "discriminant32\n",
      "x1= -3.1715728752538097\n",
      "x2= -8.82842712474619\n"
     ]
    }
   ],
   "source": [
    "value1 = int(input(\"enter  coefficient of x2=\")) \n",
    "value2 = int(input(\"enter coefficient of x=\"))\n",
    "value3 =int(input(\"enter fixed number=\"))\n",
    "print ('discriminant=',(value2*value2)-4*(value1*value3))\n",
    "print('ıf discriminant<0 , you will not find x1 and x2')\n",
    "print('you must true write discriminant value')\n",
    "value4 = int(input(\"discriminant\"))\n",
    "print('x1=',(-1*value2)+(value4**0.5)/(2*value1))\n",
    "print('x2=',(-1*value2)-(value4**0.5)/(2*value1))\n"
   ]
  },
  {
   "cell_type": "code",
   "execution_count": null,
   "metadata": {},
   "outputs": [],
   "source": []
  }
 ],
 "metadata": {
  "kernelspec": {
   "display_name": "Python 3",
   "language": "python",
   "name": "python3"
  },
  "language_info": {
   "codemirror_mode": {
    "name": "ipython",
    "version": 3
   },
   "file_extension": ".py",
   "mimetype": "text/x-python",
   "name": "python",
   "nbconvert_exporter": "python",
   "pygments_lexer": "ipython3",
   "version": "3.6.7"
  }
 },
 "nbformat": 4,
 "nbformat_minor": 2
}
